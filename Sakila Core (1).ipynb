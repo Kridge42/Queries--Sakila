{
 "cells": [
  {
   "cell_type": "markdown",
   "id": "70367564",
   "metadata": {},
   "source": [
    "# Sakila SQL core\n",
    "- Kevin Ridge"
   ]
  },
  {
   "cell_type": "code",
   "execution_count": 1,
   "id": "ef9c5fcd",
   "metadata": {},
   "outputs": [],
   "source": [
    "# imports\n",
    "import pandas as pd\n",
    "from sqlalchemy import create_engine"
   ]
  },
  {
   "cell_type": "markdown",
   "id": "992038c0",
   "metadata": {},
   "source": [
    "1. What query would you run to get all the customers inside city_id = 312? Your query should return the customers' first name, last name, email, address, and city."
   ]
  },
  {
   "cell_type": "markdown",
   "id": "516b19d8",
   "metadata": {},
   "source": [
    "- SELECT first_name, last_name, email, address_id\n",
    "- FROM customer\n",
    "- WHERE customer_id='312';"
   ]
  },
  {
   "cell_type": "markdown",
   "id": "7d213cff",
   "metadata": {},
   "source": [
    "2.*** What query would you run to get all comedy films? Note that the genre is called the category in this schema. Your query should return film title, description, release year, rating, and special features.\n",
    "\n",
    "- SELECT *\n",
    "- FROM category\n",
    "- WHERE name= 'Comedy';\n",
    "\n",
    "3.*** What query would you run to get all the films that Johnny Lollobrigida was in? Your query should return the actor's last name, film title, and release year.\n",
    "\n",
    "- SELECT l.actor.last_name\n",
    "- FROM actor AS l\n",
    "- JOIN film AS f;\n",
    "- FROM f.release_year, f.title\n",
    "- WHERE last_name='Lollobrigida'\n",
    "\n",
    "\n",
    "4. What query would you run to get the first and last names of all the actors in the movie titled \"Bingo Talented\"?\n",
    "\n",
    "- SELECT a.last_name, a.first_name, f.title\n",
    "- FROM actor AS a\n",
    "- JOIN film_actor AS z\n",
    "- ON a.actor_id = z.actor_id\n",
    "- JOIN film AS f\n",
    "- ON z.film_id = f.film_id\n",
    "- WHERE f.title = 'Bingo Talented';\n",
    "\n",
    "5. *** What query would you run to get the customer_id associated with all payments greater than twice the average payment amount? (HINT: use 2* in your query to get twice the amount). Your result should include the customer id and the amount.\n",
    " Stumped\n",
    "\n",
    "\n",
    "6. What query would you run to list the first and last names of the 5 customers who have the highest number(count) of payments? You can title the number of payments as num_payments.\n",
    "\n",
    "I dont know"
   ]
  }
 ],
 "metadata": {
  "kernelspec": {
   "display_name": "Python (dojo-env)",
   "language": "python",
   "name": "dojo-env"
  },
  "language_info": {
   "codemirror_mode": {
    "name": "ipython",
    "version": 3
   },
   "file_extension": ".py",
   "mimetype": "text/x-python",
   "name": "python",
   "nbconvert_exporter": "python",
   "pygments_lexer": "ipython3",
   "version": "3.9.15"
  },
  "toc": {
   "base_numbering": 1,
   "nav_menu": {},
   "number_sections": true,
   "sideBar": true,
   "skip_h1_title": false,
   "title_cell": "Table of Contents",
   "title_sidebar": "Contents",
   "toc_cell": false,
   "toc_position": {},
   "toc_section_display": true,
   "toc_window_display": false
  }
 },
 "nbformat": 4,
 "nbformat_minor": 5
}
